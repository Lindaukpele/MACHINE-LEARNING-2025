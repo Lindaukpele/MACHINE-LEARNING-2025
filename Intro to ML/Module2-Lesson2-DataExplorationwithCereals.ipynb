{
 "cells": [
  {
   "cell_type": "markdown",
   "id": "cd8811d7",
   "metadata": {},
   "source": [
    "# <center> Module 2: Lesson 2 Data Exploration </center>\n",
    "##  <center>Sample Data Exploration <br> with Pandas Library Functions </center>\n",
    "<center>by: Nicole Woodland, P. Eng. for RoboGarden Inc. </center>\n",
    "\n",
    "---\n",
    "\n",
    "This notebook demonstrates multiple ways to perform data exploration on new datasets. Some process in data exploration include how to:\n",
    "- Using summary statistics.\n",
    "- Calculating Standard Deviation and variance with pandas.\n",
    "- Arranging data using arrays in numpy.\n",
    "- Calculating similarity/discimilarity.\n",
    "\n",
    "Dataset: https://www.kaggle.com/datasets/crawford/80-cereals\n",
    "Note: Modifications have been made to the original dataset to showcase the different functions."
   ]
  },
  {
   "cell_type": "code",
   "execution_count": 1,
   "id": "344b74ba-9ac3-46af-b3eb-389a6cc22692",
   "metadata": {},
   "outputs": [],
   "source": [
    "import warnings\n",
    "warnings.simplefilter('ignore')"
   ]
  },
  {
   "cell_type": "code",
   "execution_count": 7,
   "id": "abd8b3dd",
   "metadata": {},
   "outputs": [
    {
     "data": {
      "text/plain": [
       "78"
      ]
     },
     "execution_count": 7,
     "metadata": {},
     "output_type": "execute_result"
    }
   ],
   "source": [
    "# Import the data\n",
    "import pandas as pd\n",
    "\n",
    "df = pd.read_csv(\"../cereal_mod.csv\")\n",
    "len(df)"
   ]
  },
  {
   "cell_type": "code",
   "execution_count": 5,
   "id": "22955ab9",
   "metadata": {},
   "outputs": [
    {
     "data": {
      "text/html": [
       "<div>\n",
       "<style scoped>\n",
       "    .dataframe tbody tr th:only-of-type {\n",
       "        vertical-align: middle;\n",
       "    }\n",
       "\n",
       "    .dataframe tbody tr th {\n",
       "        vertical-align: top;\n",
       "    }\n",
       "\n",
       "    .dataframe thead th {\n",
       "        text-align: right;\n",
       "    }\n",
       "</style>\n",
       "<table border=\"1\" class=\"dataframe\">\n",
       "  <thead>\n",
       "    <tr style=\"text-align: right;\">\n",
       "      <th></th>\n",
       "      <th>name</th>\n",
       "      <th>mfr</th>\n",
       "      <th>type</th>\n",
       "      <th>calories</th>\n",
       "      <th>protein</th>\n",
       "      <th>fat</th>\n",
       "      <th>fat.1</th>\n",
       "      <th>sodium</th>\n",
       "      <th>fiber</th>\n",
       "      <th>carbo</th>\n",
       "      <th>sugars</th>\n",
       "      <th>potass</th>\n",
       "      <th>vitamins</th>\n",
       "      <th>shelf</th>\n",
       "      <th>weight</th>\n",
       "      <th>cups</th>\n",
       "      <th>rating</th>\n",
       "    </tr>\n",
       "  </thead>\n",
       "  <tbody>\n",
       "    <tr>\n",
       "      <th>0</th>\n",
       "      <td>100% Bran</td>\n",
       "      <td>N</td>\n",
       "      <td>C</td>\n",
       "      <td>70.0</td>\n",
       "      <td>4</td>\n",
       "      <td>1</td>\n",
       "      <td>1</td>\n",
       "      <td>130</td>\n",
       "      <td>10.0</td>\n",
       "      <td>5.0</td>\n",
       "      <td>6</td>\n",
       "      <td>280</td>\n",
       "      <td>25</td>\n",
       "      <td>3</td>\n",
       "      <td>1.0</td>\n",
       "      <td>0.33</td>\n",
       "      <td>68.402973</td>\n",
       "    </tr>\n",
       "    <tr>\n",
       "      <th>1</th>\n",
       "      <td>100% Natural Bran</td>\n",
       "      <td>Q</td>\n",
       "      <td>C</td>\n",
       "      <td>120.0</td>\n",
       "      <td>3</td>\n",
       "      <td>5</td>\n",
       "      <td>5</td>\n",
       "      <td>15</td>\n",
       "      <td>2.0</td>\n",
       "      <td>8.0</td>\n",
       "      <td>8</td>\n",
       "      <td>135</td>\n",
       "      <td>0</td>\n",
       "      <td>3</td>\n",
       "      <td>1.0</td>\n",
       "      <td>1.00</td>\n",
       "      <td>33.983679</td>\n",
       "    </tr>\n",
       "    <tr>\n",
       "      <th>2</th>\n",
       "      <td>All-Bran</td>\n",
       "      <td>K</td>\n",
       "      <td>NaN</td>\n",
       "      <td>70.0</td>\n",
       "      <td>4</td>\n",
       "      <td>1</td>\n",
       "      <td>1</td>\n",
       "      <td>260</td>\n",
       "      <td>9.0</td>\n",
       "      <td>7.0</td>\n",
       "      <td>5</td>\n",
       "      <td>320</td>\n",
       "      <td>25</td>\n",
       "      <td>3</td>\n",
       "      <td>1.0</td>\n",
       "      <td>0.33</td>\n",
       "      <td>59.425505</td>\n",
       "    </tr>\n",
       "    <tr>\n",
       "      <th>3</th>\n",
       "      <td>All-Bran with Extra Fiber</td>\n",
       "      <td>K</td>\n",
       "      <td>NaN</td>\n",
       "      <td>50.0</td>\n",
       "      <td>4</td>\n",
       "      <td>0</td>\n",
       "      <td>0</td>\n",
       "      <td>140</td>\n",
       "      <td>14.0</td>\n",
       "      <td>8.0</td>\n",
       "      <td>0</td>\n",
       "      <td>330</td>\n",
       "      <td>25</td>\n",
       "      <td>3</td>\n",
       "      <td>1.0</td>\n",
       "      <td>0.50</td>\n",
       "      <td>93.704912</td>\n",
       "    </tr>\n",
       "    <tr>\n",
       "      <th>4</th>\n",
       "      <td>Almond Delight</td>\n",
       "      <td>R</td>\n",
       "      <td>C</td>\n",
       "      <td>NaN</td>\n",
       "      <td>2</td>\n",
       "      <td>2</td>\n",
       "      <td>2</td>\n",
       "      <td>200</td>\n",
       "      <td>1.0</td>\n",
       "      <td>14.0</td>\n",
       "      <td>8</td>\n",
       "      <td>-1</td>\n",
       "      <td>25</td>\n",
       "      <td>3</td>\n",
       "      <td>1.0</td>\n",
       "      <td>0.75</td>\n",
       "      <td>34.384843</td>\n",
       "    </tr>\n",
       "    <tr>\n",
       "      <th>5</th>\n",
       "      <td>Apple Cinnamon Cheerios</td>\n",
       "      <td>G</td>\n",
       "      <td>C</td>\n",
       "      <td>110.0</td>\n",
       "      <td>2</td>\n",
       "      <td>2</td>\n",
       "      <td>2</td>\n",
       "      <td>180</td>\n",
       "      <td>1.5</td>\n",
       "      <td>10.5</td>\n",
       "      <td>10</td>\n",
       "      <td>70</td>\n",
       "      <td>25</td>\n",
       "      <td>1</td>\n",
       "      <td>1.0</td>\n",
       "      <td>0.75</td>\n",
       "      <td>29.509541</td>\n",
       "    </tr>\n",
       "  </tbody>\n",
       "</table>\n",
       "</div>"
      ],
      "text/plain": [
       "                        name mfr type  calories  protein  fat  fat.1  sodium  \\\n",
       "0                  100% Bran   N    C      70.0        4    1      1     130   \n",
       "1          100% Natural Bran   Q    C     120.0        3    5      5      15   \n",
       "2                   All-Bran   K  NaN      70.0        4    1      1     260   \n",
       "3  All-Bran with Extra Fiber   K  NaN      50.0        4    0      0     140   \n",
       "4             Almond Delight   R    C       NaN        2    2      2     200   \n",
       "5    Apple Cinnamon Cheerios   G    C     110.0        2    2      2     180   \n",
       "\n",
       "   fiber  carbo  sugars  potass  vitamins  shelf  weight  cups     rating  \n",
       "0   10.0    5.0       6     280        25      3     1.0  0.33  68.402973  \n",
       "1    2.0    8.0       8     135         0      3     1.0  1.00  33.983679  \n",
       "2    9.0    7.0       5     320        25      3     1.0  0.33  59.425505  \n",
       "3   14.0    8.0       0     330        25      3     1.0  0.50  93.704912  \n",
       "4    1.0   14.0       8      -1        25      3     1.0  0.75  34.384843  \n",
       "5    1.5   10.5      10      70        25      1     1.0  0.75  29.509541  "
      ]
     },
     "execution_count": 5,
     "metadata": {},
     "output_type": "execute_result"
    }
   ],
   "source": [
    "# View a few rows of the dataframe\n",
    "df.head(6)"
   ]
  },
  {
   "cell_type": "code",
   "execution_count": 9,
   "id": "7d31c736",
   "metadata": {},
   "outputs": [
    {
     "name": "stdout",
     "output_type": "stream",
     "text": [
      "<class 'pandas.core.frame.DataFrame'>\n",
      "RangeIndex: 78 entries, 0 to 77\n",
      "Data columns (total 17 columns):\n",
      " #   Column    Non-Null Count  Dtype  \n",
      "---  ------    --------------  -----  \n",
      " 0   name      78 non-null     object \n",
      " 1   mfr       78 non-null     object \n",
      " 2   type      75 non-null     object \n",
      " 3   calories  77 non-null     float64\n",
      " 4   protein   78 non-null     int64  \n",
      " 5   fat       78 non-null     int64  \n",
      " 6   fat.1     78 non-null     int64  \n",
      " 7   sodium    78 non-null     int64  \n",
      " 8   fiber     78 non-null     float64\n",
      " 9   carbo     78 non-null     float64\n",
      " 10  sugars    78 non-null     int64  \n",
      " 11  potass    78 non-null     int64  \n",
      " 12  vitamins  78 non-null     int64  \n",
      " 13  shelf     78 non-null     int64  \n",
      " 14  weight    78 non-null     float64\n",
      " 15  cups      78 non-null     float64\n",
      " 16  rating    78 non-null     float64\n",
      "dtypes: float64(6), int64(8), object(3)\n",
      "memory usage: 10.5+ KB\n"
     ]
    }
   ],
   "source": [
    "# See a table summary:\n",
    "df.info()"
   ]
  },
  {
   "cell_type": "code",
   "execution_count": 11,
   "id": "2036c7c4",
   "metadata": {},
   "outputs": [
    {
     "data": {
      "text/html": [
       "<div>\n",
       "<style scoped>\n",
       "    .dataframe tbody tr th:only-of-type {\n",
       "        vertical-align: middle;\n",
       "    }\n",
       "\n",
       "    .dataframe tbody tr th {\n",
       "        vertical-align: top;\n",
       "    }\n",
       "\n",
       "    .dataframe thead th {\n",
       "        text-align: right;\n",
       "    }\n",
       "</style>\n",
       "<table border=\"1\" class=\"dataframe\">\n",
       "  <thead>\n",
       "    <tr style=\"text-align: right;\">\n",
       "      <th></th>\n",
       "      <th>calories</th>\n",
       "      <th>protein</th>\n",
       "      <th>fat</th>\n",
       "      <th>fat.1</th>\n",
       "      <th>sodium</th>\n",
       "      <th>fiber</th>\n",
       "      <th>carbo</th>\n",
       "      <th>sugars</th>\n",
       "      <th>potass</th>\n",
       "      <th>vitamins</th>\n",
       "      <th>shelf</th>\n",
       "      <th>weight</th>\n",
       "      <th>cups</th>\n",
       "      <th>rating</th>\n",
       "    </tr>\n",
       "  </thead>\n",
       "  <tbody>\n",
       "    <tr>\n",
       "      <th>count</th>\n",
       "      <td>77.000000</td>\n",
       "      <td>78.000000</td>\n",
       "      <td>78.000000</td>\n",
       "      <td>78.000000</td>\n",
       "      <td>78.000000</td>\n",
       "      <td>78.000000</td>\n",
       "      <td>78.000000</td>\n",
       "      <td>78.000000</td>\n",
       "      <td>78.000000</td>\n",
       "      <td>78.000000</td>\n",
       "      <td>78.000000</td>\n",
       "      <td>78.000000</td>\n",
       "      <td>78.000000</td>\n",
       "      <td>78.000000</td>\n",
       "    </tr>\n",
       "    <tr>\n",
       "      <th>mean</th>\n",
       "      <td>106.753247</td>\n",
       "      <td>2.538462</td>\n",
       "      <td>1.000000</td>\n",
       "      <td>1.000000</td>\n",
       "      <td>161.346154</td>\n",
       "      <td>2.137179</td>\n",
       "      <td>14.679487</td>\n",
       "      <td>6.858974</td>\n",
       "      <td>95.294872</td>\n",
       "      <td>28.205128</td>\n",
       "      <td>2.192308</td>\n",
       "      <td>1.029231</td>\n",
       "      <td>0.823333</td>\n",
       "      <td>42.706700</td>\n",
       "    </tr>\n",
       "    <tr>\n",
       "      <th>std</th>\n",
       "      <td>19.496394</td>\n",
       "      <td>1.089410</td>\n",
       "      <td>1.006473</td>\n",
       "      <td>1.006473</td>\n",
       "      <td>84.583291</td>\n",
       "      <td>2.371427</td>\n",
       "      <td>4.312451</td>\n",
       "      <td>4.450957</td>\n",
       "      <td>71.159252</td>\n",
       "      <td>22.200011</td>\n",
       "      <td>0.838330</td>\n",
       "      <td>0.149534</td>\n",
       "      <td>0.232086</td>\n",
       "      <td>13.960470</td>\n",
       "    </tr>\n",
       "    <tr>\n",
       "      <th>min</th>\n",
       "      <td>50.000000</td>\n",
       "      <td>1.000000</td>\n",
       "      <td>0.000000</td>\n",
       "      <td>0.000000</td>\n",
       "      <td>0.000000</td>\n",
       "      <td>0.000000</td>\n",
       "      <td>-1.000000</td>\n",
       "      <td>-1.000000</td>\n",
       "      <td>-1.000000</td>\n",
       "      <td>0.000000</td>\n",
       "      <td>1.000000</td>\n",
       "      <td>0.500000</td>\n",
       "      <td>0.250000</td>\n",
       "      <td>18.042851</td>\n",
       "    </tr>\n",
       "    <tr>\n",
       "      <th>25%</th>\n",
       "      <td>100.000000</td>\n",
       "      <td>2.000000</td>\n",
       "      <td>0.000000</td>\n",
       "      <td>0.000000</td>\n",
       "      <td>131.250000</td>\n",
       "      <td>1.000000</td>\n",
       "      <td>12.000000</td>\n",
       "      <td>3.000000</td>\n",
       "      <td>40.000000</td>\n",
       "      <td>25.000000</td>\n",
       "      <td>1.000000</td>\n",
       "      <td>1.000000</td>\n",
       "      <td>0.670000</td>\n",
       "      <td>33.376490</td>\n",
       "    </tr>\n",
       "    <tr>\n",
       "      <th>50%</th>\n",
       "      <td>110.000000</td>\n",
       "      <td>2.500000</td>\n",
       "      <td>1.000000</td>\n",
       "      <td>1.000000</td>\n",
       "      <td>180.000000</td>\n",
       "      <td>1.750000</td>\n",
       "      <td>14.500000</td>\n",
       "      <td>6.500000</td>\n",
       "      <td>90.000000</td>\n",
       "      <td>25.000000</td>\n",
       "      <td>2.000000</td>\n",
       "      <td>1.000000</td>\n",
       "      <td>0.750000</td>\n",
       "      <td>40.424490</td>\n",
       "    </tr>\n",
       "    <tr>\n",
       "      <th>75%</th>\n",
       "      <td>110.000000</td>\n",
       "      <td>3.000000</td>\n",
       "      <td>1.750000</td>\n",
       "      <td>1.750000</td>\n",
       "      <td>217.500000</td>\n",
       "      <td>3.000000</td>\n",
       "      <td>17.000000</td>\n",
       "      <td>11.000000</td>\n",
       "      <td>120.000000</td>\n",
       "      <td>25.000000</td>\n",
       "      <td>3.000000</td>\n",
       "      <td>1.000000</td>\n",
       "      <td>1.000000</td>\n",
       "      <td>50.812544</td>\n",
       "    </tr>\n",
       "    <tr>\n",
       "      <th>max</th>\n",
       "      <td>160.000000</td>\n",
       "      <td>6.000000</td>\n",
       "      <td>5.000000</td>\n",
       "      <td>5.000000</td>\n",
       "      <td>320.000000</td>\n",
       "      <td>14.000000</td>\n",
       "      <td>23.000000</td>\n",
       "      <td>15.000000</td>\n",
       "      <td>330.000000</td>\n",
       "      <td>100.000000</td>\n",
       "      <td>3.000000</td>\n",
       "      <td>1.500000</td>\n",
       "      <td>1.500000</td>\n",
       "      <td>93.704912</td>\n",
       "    </tr>\n",
       "  </tbody>\n",
       "</table>\n",
       "</div>"
      ],
      "text/plain": [
       "         calories    protein        fat      fat.1      sodium      fiber  \\\n",
       "count   77.000000  78.000000  78.000000  78.000000   78.000000  78.000000   \n",
       "mean   106.753247   2.538462   1.000000   1.000000  161.346154   2.137179   \n",
       "std     19.496394   1.089410   1.006473   1.006473   84.583291   2.371427   \n",
       "min     50.000000   1.000000   0.000000   0.000000    0.000000   0.000000   \n",
       "25%    100.000000   2.000000   0.000000   0.000000  131.250000   1.000000   \n",
       "50%    110.000000   2.500000   1.000000   1.000000  180.000000   1.750000   \n",
       "75%    110.000000   3.000000   1.750000   1.750000  217.500000   3.000000   \n",
       "max    160.000000   6.000000   5.000000   5.000000  320.000000  14.000000   \n",
       "\n",
       "           carbo     sugars      potass    vitamins      shelf     weight  \\\n",
       "count  78.000000  78.000000   78.000000   78.000000  78.000000  78.000000   \n",
       "mean   14.679487   6.858974   95.294872   28.205128   2.192308   1.029231   \n",
       "std     4.312451   4.450957   71.159252   22.200011   0.838330   0.149534   \n",
       "min    -1.000000  -1.000000   -1.000000    0.000000   1.000000   0.500000   \n",
       "25%    12.000000   3.000000   40.000000   25.000000   1.000000   1.000000   \n",
       "50%    14.500000   6.500000   90.000000   25.000000   2.000000   1.000000   \n",
       "75%    17.000000  11.000000  120.000000   25.000000   3.000000   1.000000   \n",
       "max    23.000000  15.000000  330.000000  100.000000   3.000000   1.500000   \n",
       "\n",
       "            cups     rating  \n",
       "count  78.000000  78.000000  \n",
       "mean    0.823333  42.706700  \n",
       "std     0.232086  13.960470  \n",
       "min     0.250000  18.042851  \n",
       "25%     0.670000  33.376490  \n",
       "50%     0.750000  40.424490  \n",
       "75%     1.000000  50.812544  \n",
       "max     1.500000  93.704912  "
      ]
     },
     "execution_count": 11,
     "metadata": {},
     "output_type": "execute_result"
    }
   ],
   "source": [
    "# Get summary statistics:\n",
    "df.describe()"
   ]
  },
  {
   "cell_type": "markdown",
   "id": "17611654-d4f6-44d0-a7d9-c3da7eb23557",
   "metadata": {},
   "source": [
    "### View summary statistics of numerical and categorical data\n",
    "Numerical:"
   ]
  },
  {
   "cell_type": "code",
   "execution_count": 13,
   "id": "9ef60735-34da-445b-b87d-ddc7e9a35751",
   "metadata": {},
   "outputs": [
    {
     "data": {
      "text/plain": [
       "110.0"
      ]
     },
     "execution_count": 13,
     "metadata": {},
     "output_type": "execute_result"
    }
   ],
   "source": [
    "df[\"calories\"].median()"
   ]
  },
  {
   "cell_type": "code",
   "execution_count": 15,
   "id": "d3dc08f9-9578-4649-8e4b-5d207df7177a",
   "metadata": {},
   "outputs": [
    {
     "data": {
      "text/plain": [
       "106.75324675324676"
      ]
     },
     "execution_count": 15,
     "metadata": {},
     "output_type": "execute_result"
    }
   ],
   "source": [
    "df[\"calories\"].mean()"
   ]
  },
  {
   "cell_type": "code",
   "execution_count": 17,
   "id": "5848776e-6482-4ca1-bc68-ed3de975fbef",
   "metadata": {},
   "outputs": [
    {
     "data": {
      "text/plain": [
       "19.496393623434326"
      ]
     },
     "execution_count": 17,
     "metadata": {},
     "output_type": "execute_result"
    }
   ],
   "source": [
    "df[\"calories\"].std()"
   ]
  },
  {
   "cell_type": "code",
   "execution_count": 19,
   "id": "e1775597-7acd-45ff-9b89-cab445dab0b2",
   "metadata": {},
   "outputs": [
    {
     "data": {
      "text/plain": [
       "380.1093643198906"
      ]
     },
     "execution_count": 19,
     "metadata": {},
     "output_type": "execute_result"
    }
   ],
   "source": [
    "df[\"calories\"].var()"
   ]
  },
  {
   "cell_type": "markdown",
   "id": "996947bc-891e-48fd-b720-aa50cd95b634",
   "metadata": {},
   "source": [
    "### Correlation: \n",
    "How strongly different pairs of variables relate to each other\n",
    "- 1: Perfect negative correlation. The variables tend to move in opposite directions (i.e., when one variable increases, the other variable decreases).\n",
    "- 0: No correlation. The variables do not have a relationship with each other.\n",
    "- 1: Perfect positive correlation. The variables tend to move in the same direction (i.e., when one variable increases, the other variable also increases).\n"
   ]
  },
  {
   "cell_type": "markdown",
   "id": "3543dba7-a50f-4631-a6cd-fb84506a12d2",
   "metadata": {},
   "source": [
    "![Correlation](https://upload.wikimedia.org/wikipedia/commons/3/34/Correlation_coefficient.png)"
   ]
  },
  {
   "cell_type": "code",
   "execution_count": 21,
   "id": "e1f6d3d9-af12-485e-8359-1c3789584fd1",
   "metadata": {},
   "outputs": [
    {
     "data": {
      "text/html": [
       "<div>\n",
       "<style scoped>\n",
       "    .dataframe tbody tr th:only-of-type {\n",
       "        vertical-align: middle;\n",
       "    }\n",
       "\n",
       "    .dataframe tbody tr th {\n",
       "        vertical-align: top;\n",
       "    }\n",
       "\n",
       "    .dataframe thead th {\n",
       "        text-align: right;\n",
       "    }\n",
       "</style>\n",
       "<table border=\"1\" class=\"dataframe\">\n",
       "  <thead>\n",
       "    <tr style=\"text-align: right;\">\n",
       "      <th></th>\n",
       "      <th>calories</th>\n",
       "      <th>protein</th>\n",
       "      <th>fat</th>\n",
       "      <th>fat.1</th>\n",
       "      <th>sodium</th>\n",
       "      <th>fiber</th>\n",
       "      <th>carbo</th>\n",
       "      <th>sugars</th>\n",
       "      <th>potass</th>\n",
       "      <th>vitamins</th>\n",
       "      <th>shelf</th>\n",
       "      <th>weight</th>\n",
       "      <th>cups</th>\n",
       "      <th>rating</th>\n",
       "    </tr>\n",
       "  </thead>\n",
       "  <tbody>\n",
       "    <tr>\n",
       "      <th>calories</th>\n",
       "      <td>1.000000</td>\n",
       "      <td>0.022417</td>\n",
       "      <td>0.500734</td>\n",
       "      <td>0.500734</td>\n",
       "      <td>0.288234</td>\n",
       "      <td>-0.289966</td>\n",
       "      <td>0.240576</td>\n",
       "      <td>0.562287</td>\n",
       "      <td>-0.060124</td>\n",
       "      <td>0.266170</td>\n",
       "      <td>0.100956</td>\n",
       "      <td>0.696981</td>\n",
       "      <td>0.084042</td>\n",
       "      <td>-0.690071</td>\n",
       "    </tr>\n",
       "    <tr>\n",
       "      <th>protein</th>\n",
       "      <td>0.022417</td>\n",
       "      <td>1.000000</td>\n",
       "      <td>0.213201</td>\n",
       "      <td>0.213201</td>\n",
       "      <td>-0.063640</td>\n",
       "      <td>0.501887</td>\n",
       "      <td>-0.138324</td>\n",
       "      <td>-0.318928</td>\n",
       "      <td>0.551437</td>\n",
       "      <td>0.008261</td>\n",
       "      <td>0.141107</td>\n",
       "      <td>0.217028</td>\n",
       "      <td>-0.248094</td>\n",
       "      <td>0.468233</td>\n",
       "    </tr>\n",
       "    <tr>\n",
       "      <th>fat</th>\n",
       "      <td>0.500734</td>\n",
       "      <td>0.213201</td>\n",
       "      <td>1.000000</td>\n",
       "      <td>1.000000</td>\n",
       "      <td>-0.025171</td>\n",
       "      <td>0.022853</td>\n",
       "      <td>-0.330632</td>\n",
       "      <td>0.281207</td>\n",
       "      <td>0.202186</td>\n",
       "      <td>-0.029062</td>\n",
       "      <td>0.277054</td>\n",
       "      <td>0.215728</td>\n",
       "      <td>-0.184029</td>\n",
       "      <td>-0.409436</td>\n",
       "    </tr>\n",
       "    <tr>\n",
       "      <th>fat.1</th>\n",
       "      <td>0.500734</td>\n",
       "      <td>0.213201</td>\n",
       "      <td>1.000000</td>\n",
       "      <td>1.000000</td>\n",
       "      <td>-0.025171</td>\n",
       "      <td>0.022853</td>\n",
       "      <td>-0.330632</td>\n",
       "      <td>0.281207</td>\n",
       "      <td>0.202186</td>\n",
       "      <td>-0.029062</td>\n",
       "      <td>0.277054</td>\n",
       "      <td>0.215728</td>\n",
       "      <td>-0.184029</td>\n",
       "      <td>-0.409436</td>\n",
       "    </tr>\n",
       "    <tr>\n",
       "      <th>sodium</th>\n",
       "      <td>0.288234</td>\n",
       "      <td>-0.063640</td>\n",
       "      <td>-0.025171</td>\n",
       "      <td>-0.025171</td>\n",
       "      <td>1.000000</td>\n",
       "      <td>-0.079081</td>\n",
       "      <td>0.374864</td>\n",
       "      <td>0.077265</td>\n",
       "      <td>-0.048907</td>\n",
       "      <td>0.352995</td>\n",
       "      <td>-0.096190</td>\n",
       "      <td>0.299856</td>\n",
       "      <td>0.132611</td>\n",
       "      <td>-0.390484</td>\n",
       "    </tr>\n",
       "    <tr>\n",
       "      <th>fiber</th>\n",
       "      <td>-0.289966</td>\n",
       "      <td>0.501887</td>\n",
       "      <td>0.022853</td>\n",
       "      <td>0.022853</td>\n",
       "      <td>-0.079081</td>\n",
       "      <td>1.000000</td>\n",
       "      <td>-0.359730</td>\n",
       "      <td>-0.132995</td>\n",
       "      <td>0.903082</td>\n",
       "      <td>-0.031279</td>\n",
       "      <td>0.302081</td>\n",
       "      <td>0.248023</td>\n",
       "      <td>-0.515130</td>\n",
       "      <td>0.581654</td>\n",
       "    </tr>\n",
       "    <tr>\n",
       "      <th>carbo</th>\n",
       "      <td>0.240576</td>\n",
       "      <td>-0.138324</td>\n",
       "      <td>-0.330632</td>\n",
       "      <td>-0.330632</td>\n",
       "      <td>0.374864</td>\n",
       "      <td>-0.359730</td>\n",
       "      <td>1.000000</td>\n",
       "      <td>-0.345421</td>\n",
       "      <td>-0.359415</td>\n",
       "      <td>0.251655</td>\n",
       "      <td>-0.126421</td>\n",
       "      <td>0.129411</td>\n",
       "      <td>0.372061</td>\n",
       "      <td>0.055656</td>\n",
       "    </tr>\n",
       "    <tr>\n",
       "      <th>sugars</th>\n",
       "      <td>0.562287</td>\n",
       "      <td>-0.318928</td>\n",
       "      <td>0.281207</td>\n",
       "      <td>0.281207</td>\n",
       "      <td>0.077265</td>\n",
       "      <td>-0.132995</td>\n",
       "      <td>-0.345421</td>\n",
       "      <td>1.000000</td>\n",
       "      <td>0.033592</td>\n",
       "      <td>0.126209</td>\n",
       "      <td>0.118738</td>\n",
       "      <td>0.449796</td>\n",
       "      <td>-0.042913</td>\n",
       "      <td>-0.756690</td>\n",
       "    </tr>\n",
       "    <tr>\n",
       "      <th>potass</th>\n",
       "      <td>-0.060124</td>\n",
       "      <td>0.551437</td>\n",
       "      <td>0.202186</td>\n",
       "      <td>0.202186</td>\n",
       "      <td>-0.048907</td>\n",
       "      <td>0.903082</td>\n",
       "      <td>-0.359415</td>\n",
       "      <td>0.033592</td>\n",
       "      <td>1.000000</td>\n",
       "      <td>0.022207</td>\n",
       "      <td>0.370002</td>\n",
       "      <td>0.416407</td>\n",
       "      <td>-0.499454</td>\n",
       "      <td>0.375718</td>\n",
       "    </tr>\n",
       "    <tr>\n",
       "      <th>vitamins</th>\n",
       "      <td>0.266170</td>\n",
       "      <td>0.008261</td>\n",
       "      <td>-0.029062</td>\n",
       "      <td>-0.029062</td>\n",
       "      <td>0.352995</td>\n",
       "      <td>-0.031279</td>\n",
       "      <td>0.251655</td>\n",
       "      <td>0.126209</td>\n",
       "      <td>0.022207</td>\n",
       "      <td>1.000000</td>\n",
       "      <td>0.297914</td>\n",
       "      <td>0.320571</td>\n",
       "      <td>0.126451</td>\n",
       "      <td>-0.240859</td>\n",
       "    </tr>\n",
       "    <tr>\n",
       "      <th>shelf</th>\n",
       "      <td>0.100956</td>\n",
       "      <td>0.141107</td>\n",
       "      <td>0.277054</td>\n",
       "      <td>0.277054</td>\n",
       "      <td>-0.096190</td>\n",
       "      <td>0.302081</td>\n",
       "      <td>-0.126421</td>\n",
       "      <td>0.118738</td>\n",
       "      <td>0.370002</td>\n",
       "      <td>0.297914</td>\n",
       "      <td>1.000000</td>\n",
       "      <td>0.191817</td>\n",
       "      <td>-0.343757</td>\n",
       "      <td>0.020583</td>\n",
       "    </tr>\n",
       "    <tr>\n",
       "      <th>weight</th>\n",
       "      <td>0.696981</td>\n",
       "      <td>0.217028</td>\n",
       "      <td>0.215728</td>\n",
       "      <td>0.215728</td>\n",
       "      <td>0.299856</td>\n",
       "      <td>0.248023</td>\n",
       "      <td>0.129411</td>\n",
       "      <td>0.449796</td>\n",
       "      <td>0.416407</td>\n",
       "      <td>0.320571</td>\n",
       "      <td>0.191817</td>\n",
       "      <td>1.000000</td>\n",
       "      <td>-0.200728</td>\n",
       "      <td>-0.298530</td>\n",
       "    </tr>\n",
       "    <tr>\n",
       "      <th>cups</th>\n",
       "      <td>0.084042</td>\n",
       "      <td>-0.248094</td>\n",
       "      <td>-0.184029</td>\n",
       "      <td>-0.184029</td>\n",
       "      <td>0.132611</td>\n",
       "      <td>-0.515130</td>\n",
       "      <td>0.372061</td>\n",
       "      <td>-0.042913</td>\n",
       "      <td>-0.499454</td>\n",
       "      <td>0.126451</td>\n",
       "      <td>-0.343757</td>\n",
       "      <td>-0.200728</td>\n",
       "      <td>1.000000</td>\n",
       "      <td>-0.200052</td>\n",
       "    </tr>\n",
       "    <tr>\n",
       "      <th>rating</th>\n",
       "      <td>-0.690071</td>\n",
       "      <td>0.468233</td>\n",
       "      <td>-0.409436</td>\n",
       "      <td>-0.409436</td>\n",
       "      <td>-0.390484</td>\n",
       "      <td>0.581654</td>\n",
       "      <td>0.055656</td>\n",
       "      <td>-0.756690</td>\n",
       "      <td>0.375718</td>\n",
       "      <td>-0.240859</td>\n",
       "      <td>0.020583</td>\n",
       "      <td>-0.298530</td>\n",
       "      <td>-0.200052</td>\n",
       "      <td>1.000000</td>\n",
       "    </tr>\n",
       "  </tbody>\n",
       "</table>\n",
       "</div>"
      ],
      "text/plain": [
       "          calories   protein       fat     fat.1    sodium     fiber  \\\n",
       "calories  1.000000  0.022417  0.500734  0.500734  0.288234 -0.289966   \n",
       "protein   0.022417  1.000000  0.213201  0.213201 -0.063640  0.501887   \n",
       "fat       0.500734  0.213201  1.000000  1.000000 -0.025171  0.022853   \n",
       "fat.1     0.500734  0.213201  1.000000  1.000000 -0.025171  0.022853   \n",
       "sodium    0.288234 -0.063640 -0.025171 -0.025171  1.000000 -0.079081   \n",
       "fiber    -0.289966  0.501887  0.022853  0.022853 -0.079081  1.000000   \n",
       "carbo     0.240576 -0.138324 -0.330632 -0.330632  0.374864 -0.359730   \n",
       "sugars    0.562287 -0.318928  0.281207  0.281207  0.077265 -0.132995   \n",
       "potass   -0.060124  0.551437  0.202186  0.202186 -0.048907  0.903082   \n",
       "vitamins  0.266170  0.008261 -0.029062 -0.029062  0.352995 -0.031279   \n",
       "shelf     0.100956  0.141107  0.277054  0.277054 -0.096190  0.302081   \n",
       "weight    0.696981  0.217028  0.215728  0.215728  0.299856  0.248023   \n",
       "cups      0.084042 -0.248094 -0.184029 -0.184029  0.132611 -0.515130   \n",
       "rating   -0.690071  0.468233 -0.409436 -0.409436 -0.390484  0.581654   \n",
       "\n",
       "             carbo    sugars    potass  vitamins     shelf    weight  \\\n",
       "calories  0.240576  0.562287 -0.060124  0.266170  0.100956  0.696981   \n",
       "protein  -0.138324 -0.318928  0.551437  0.008261  0.141107  0.217028   \n",
       "fat      -0.330632  0.281207  0.202186 -0.029062  0.277054  0.215728   \n",
       "fat.1    -0.330632  0.281207  0.202186 -0.029062  0.277054  0.215728   \n",
       "sodium    0.374864  0.077265 -0.048907  0.352995 -0.096190  0.299856   \n",
       "fiber    -0.359730 -0.132995  0.903082 -0.031279  0.302081  0.248023   \n",
       "carbo     1.000000 -0.345421 -0.359415  0.251655 -0.126421  0.129411   \n",
       "sugars   -0.345421  1.000000  0.033592  0.126209  0.118738  0.449796   \n",
       "potass   -0.359415  0.033592  1.000000  0.022207  0.370002  0.416407   \n",
       "vitamins  0.251655  0.126209  0.022207  1.000000  0.297914  0.320571   \n",
       "shelf    -0.126421  0.118738  0.370002  0.297914  1.000000  0.191817   \n",
       "weight    0.129411  0.449796  0.416407  0.320571  0.191817  1.000000   \n",
       "cups      0.372061 -0.042913 -0.499454  0.126451 -0.343757 -0.200728   \n",
       "rating    0.055656 -0.756690  0.375718 -0.240859  0.020583 -0.298530   \n",
       "\n",
       "              cups    rating  \n",
       "calories  0.084042 -0.690071  \n",
       "protein  -0.248094  0.468233  \n",
       "fat      -0.184029 -0.409436  \n",
       "fat.1    -0.184029 -0.409436  \n",
       "sodium    0.132611 -0.390484  \n",
       "fiber    -0.515130  0.581654  \n",
       "carbo     0.372061  0.055656  \n",
       "sugars   -0.042913 -0.756690  \n",
       "potass   -0.499454  0.375718  \n",
       "vitamins  0.126451 -0.240859  \n",
       "shelf    -0.343757  0.020583  \n",
       "weight   -0.200728 -0.298530  \n",
       "cups      1.000000 -0.200052  \n",
       "rating   -0.200052  1.000000  "
      ]
     },
     "execution_count": 21,
     "metadata": {},
     "output_type": "execute_result"
    }
   ],
   "source": [
    "df.corr()"
   ]
  },
  {
   "cell_type": "markdown",
   "id": "5b494a90-5cf4-4a0b-a5ef-7c8165aec90b",
   "metadata": {},
   "source": [
    "Categorical:"
   ]
  },
  {
   "cell_type": "code",
   "execution_count": 23,
   "id": "da009f83-43d9-4c66-9316-39684b13e640",
   "metadata": {},
   "outputs": [
    {
     "data": {
      "text/plain": [
       "K    24\n",
       "G    22\n",
       "P     9\n",
       "R     8\n",
       "Q     8\n",
       "N     6\n",
       "A     1\n",
       "Name: mfr, dtype: int64"
      ]
     },
     "execution_count": 23,
     "metadata": {},
     "output_type": "execute_result"
    }
   ],
   "source": [
    "# Get frequency of values in column 'mfr'\n",
    "frequency = df['mfr'].value_counts()\n",
    "frequency"
   ]
  },
  {
   "cell_type": "code",
   "execution_count": 25,
   "id": "26234b33-cd11-4a69-91fa-cb332fe2805b",
   "metadata": {},
   "outputs": [
    {
     "data": {
      "text/plain": [
       "0    K\n",
       "dtype: object"
      ]
     },
     "execution_count": 25,
     "metadata": {},
     "output_type": "execute_result"
    }
   ],
   "source": [
    "# Calculate the mode:\n",
    "df['mfr'].mode()"
   ]
  },
  {
   "cell_type": "markdown",
   "id": "3317f606-a3fb-4c1c-ae69-2a502fbb1ad0",
   "metadata": {},
   "source": [
    "### Use numpy to anayze the data\n",
    "\n",
    "Arrays and their shapes:"
   ]
  },
  {
   "cell_type": "code",
   "execution_count": 27,
   "id": "d7cd0e98-620e-451e-a55e-bb0d56168006",
   "metadata": {},
   "outputs": [],
   "source": [
    "# Create an an array from a couple columns in our table:\n",
    "array_cereal = df[[\"calories\",\"fat\"]].to_numpy()"
   ]
  },
  {
   "cell_type": "code",
   "execution_count": 29,
   "id": "ee2bea9f-1028-4785-a4af-98f3819ab570",
   "metadata": {
    "scrolled": true
   },
   "outputs": [
    {
     "data": {
      "text/plain": [
       "array([[ 70.,   1.],\n",
       "       [120.,   5.],\n",
       "       [ 70.,   1.],\n",
       "       [ 50.,   0.],\n",
       "       [ nan,   2.],\n",
       "       [110.,   2.],\n",
       "       [110.,   0.],\n",
       "       [130.,   2.],\n",
       "       [ 90.,   1.],\n",
       "       [ 90.,   0.],\n",
       "       [120.,   2.],\n",
       "       [110.,   2.],\n",
       "       [120.,   3.],\n",
       "       [110.,   2.],\n",
       "       [110.,   1.],\n",
       "       [110.,   0.],\n",
       "       [100.,   0.],\n",
       "       [100.,   0.],\n",
       "       [110.,   0.],\n",
       "       [110.,   1.],\n",
       "       [110.,   3.],\n",
       "       [100.,   0.],\n",
       "       [110.,   0.],\n",
       "       [100.,   1.],\n",
       "       [100.,   0.],\n",
       "       [110.,   1.],\n",
       "       [110.,   0.],\n",
       "       [100.,   0.],\n",
       "       [120.,   2.],\n",
       "       [120.,   0.],\n",
       "       [110.,   1.],\n",
       "       [100.,   0.],\n",
       "       [110.,   1.],\n",
       "       [100.,   1.],\n",
       "       [110.,   0.],\n",
       "       [120.,   3.],\n",
       "       [120.,   2.],\n",
       "       [110.,   1.],\n",
       "       [110.,   0.],\n",
       "       [110.,   1.],\n",
       "       [140.,   1.],\n",
       "       [110.,   1.],\n",
       "       [100.,   2.],\n",
       "       [110.,   1.],\n",
       "       [100.,   1.],\n",
       "       [150.,   3.],\n",
       "       [150.,   3.],\n",
       "       [160.,   2.],\n",
       "       [100.,   1.],\n",
       "       [120.,   1.],\n",
       "       [140.,   2.],\n",
       "       [ 90.,   0.],\n",
       "       [130.,   2.],\n",
       "       [120.,   1.],\n",
       "       [100.,   0.],\n",
       "       [ 50.,   0.],\n",
       "       [ 50.,   0.],\n",
       "       [100.,   1.],\n",
       "       [100.,   2.],\n",
       "       [120.,   1.],\n",
       "       [100.,   2.],\n",
       "       [ 90.,   0.],\n",
       "       [110.,   0.],\n",
       "       [110.,   0.],\n",
       "       [ 80.,   0.],\n",
       "       [ 90.,   0.],\n",
       "       [ 90.,   0.],\n",
       "       [110.,   1.],\n",
       "       [110.,   0.],\n",
       "       [ 90.,   0.],\n",
       "       [110.,   1.],\n",
       "       [140.,   1.],\n",
       "       [100.,   1.],\n",
       "       [110.,   1.],\n",
       "       [110.,   1.],\n",
       "       [100.,   1.],\n",
       "       [100.,   1.],\n",
       "       [110.,   1.]])"
      ]
     },
     "execution_count": 29,
     "metadata": {},
     "output_type": "execute_result"
    }
   ],
   "source": [
    "array_cereal"
   ]
  },
  {
   "cell_type": "code",
   "execution_count": 31,
   "id": "e72a8ed2-9b15-4792-8b87-f2918817f090",
   "metadata": {},
   "outputs": [
    {
     "name": "stdout",
     "output_type": "stream",
     "text": [
      "35.5\n"
     ]
    }
   ],
   "source": [
    "print(array_cereal[0].mean())"
   ]
  },
  {
   "cell_type": "code",
   "execution_count": 33,
   "id": "a17e07f5-74bf-4710-b146-38bb4f30160a",
   "metadata": {},
   "outputs": [
    {
     "data": {
      "text/plain": [
       "2"
      ]
     },
     "execution_count": 33,
     "metadata": {},
     "output_type": "execute_result"
    }
   ],
   "source": [
    "# Check the number of dimensions\n",
    "array_cereal.ndim"
   ]
  },
  {
   "cell_type": "code",
   "execution_count": 35,
   "id": "ecb707e8-fc3a-484b-a454-1999f336b77e",
   "metadata": {},
   "outputs": [
    {
     "data": {
      "text/plain": [
       "78"
      ]
     },
     "execution_count": 35,
     "metadata": {},
     "output_type": "execute_result"
    }
   ],
   "source": [
    "# check the number of rows\n",
    "len(array_cereal)"
   ]
  },
  {
   "cell_type": "code",
   "execution_count": 37,
   "id": "33f5bcc0-41a8-4f2e-b49c-27f41123bbe1",
   "metadata": {},
   "outputs": [
    {
     "data": {
      "text/plain": [
       "(78, 2)"
      ]
     },
     "execution_count": 37,
     "metadata": {},
     "output_type": "execute_result"
    }
   ],
   "source": [
    "# Check the number of rows and columns\n",
    "array_cereal.shape"
   ]
  },
  {
   "cell_type": "code",
   "execution_count": 67,
   "id": "0945bfe0-8ea3-440d-a621-373c28816131",
   "metadata": {},
   "outputs": [
    {
     "name": "stdout",
     "output_type": "stream",
     "text": [
      "(5, 2)\n"
     ]
    },
    {
     "data": {
      "text/plain": [
       "array([[ 70.,   1.],\n",
       "       [120.,   5.],\n",
       "       [ 70.,   1.],\n",
       "       [ 50.,   0.],\n",
       "       [ nan,   2.]])"
      ]
     },
     "execution_count": 67,
     "metadata": {},
     "output_type": "execute_result"
    }
   ],
   "source": [
    "# Take the first 5 values of the little array\n",
    "\n",
    "array_cereal_1 = array_cereal[0:5]\n",
    "print(array_cereal_1.shape)\n",
    "array_cereal_1"
   ]
  },
  {
   "cell_type": "code",
   "execution_count": 69,
   "id": "0802b86a",
   "metadata": {},
   "outputs": [
    {
     "data": {
      "text/plain": [
       "array([[ 70.,   1.],\n",
       "       [120.,   5.],\n",
       "       [ 70.,   1.],\n",
       "       [ 50.,   0.],\n",
       "       [ nan,   2.]])"
      ]
     },
     "execution_count": 69,
     "metadata": {},
     "output_type": "execute_result"
    }
   ],
   "source": [
    "# Reshape this data into 5 columns and two rows\n",
    "array_cereal_1.reshape(2,5)\n",
    "array_cereal_1"
   ]
  },
  {
   "cell_type": "markdown",
   "id": "d2c8fe4d-eacd-4e8d-a7f3-0de856ba8de6",
   "metadata": {},
   "source": [
    "### Join & Split Arrays"
   ]
  },
  {
   "cell_type": "code",
   "execution_count": 83,
   "id": "0ad38684-4b4f-414d-a458-72e702363567",
   "metadata": {},
   "outputs": [
    {
     "name": "stdout",
     "output_type": "stream",
     "text": [
      "(5, 2) (1, 2)\n",
      "Joined array: (6, 2)\n"
     ]
    }
   ],
   "source": [
    "import numpy as np\n",
    "array_cereal_2 = array_cereal[5:6]\n",
    "print(array_cereal_1.shape,array_cereal_2.shape)\n",
    "\n",
    "new_array = np.concatenate((array_cereal_1, array_cereal_2), axis = 0)\n",
    "print(\"Joined array:\", new_array.shape)"
   ]
  },
  {
   "cell_type": "markdown",
   "id": "f2cf174c-fa58-4ee1-80af-ee09ad064a28",
   "metadata": {},
   "source": [
    "### Filtering on Arrays"
   ]
  },
  {
   "cell_type": "code",
   "execution_count": 75,
   "id": "81deb61d-94d0-4c36-b800-8f99fa2277bc",
   "metadata": {},
   "outputs": [
    {
     "data": {
      "text/plain": [
       "array([[ 70.,   1.],\n",
       "       [120.,   5.],\n",
       "       [ 70.,   1.],\n",
       "       [ 50.,   0.],\n",
       "       [ nan,   2.],\n",
       "       [110.,   2.]])"
      ]
     },
     "execution_count": 75,
     "metadata": {},
     "output_type": "execute_result"
    }
   ],
   "source": [
    "new_array"
   ]
  },
  {
   "cell_type": "code",
   "execution_count": 77,
   "id": "7f6436e7-4b73-492a-bcbc-4c114b15a521",
   "metadata": {},
   "outputs": [
    {
     "data": {
      "text/plain": [
       "array([[ True, False],\n",
       "       [ True,  True],\n",
       "       [ True, False],\n",
       "       [ True, False],\n",
       "       [False, False],\n",
       "       [ True, False]])"
      ]
     },
     "execution_count": 77,
     "metadata": {},
     "output_type": "execute_result"
    }
   ],
   "source": [
    "new_array >= 5"
   ]
  },
  {
   "cell_type": "code",
   "execution_count": 79,
   "id": "872aa894-aa38-491e-a893-383ad42de9c8",
   "metadata": {},
   "outputs": [
    {
     "data": {
      "text/plain": [
       "array([[ 0.,  1.],\n",
       "       [ 0.,  0.],\n",
       "       [ 0.,  1.],\n",
       "       [ 0.,  0.],\n",
       "       [nan,  2.],\n",
       "       [ 0.,  2.]])"
      ]
     },
     "execution_count": 79,
     "metadata": {},
     "output_type": "execute_result"
    }
   ],
   "source": [
    "new_array [new_array >= 5] = 0\n",
    "new_array"
   ]
  }
 ],
 "metadata": {
  "kernelspec": {
   "display_name": "Python [conda env:.conda-DeepLearning]",
   "language": "python",
   "name": "conda-env-.conda-DeepLearning-py"
  },
  "language_info": {
   "codemirror_mode": {
    "name": "ipython",
    "version": 3
   },
   "file_extension": ".py",
   "mimetype": "text/x-python",
   "name": "python",
   "nbconvert_exporter": "python",
   "pygments_lexer": "ipython3",
   "version": "3.8.5"
  }
 },
 "nbformat": 4,
 "nbformat_minor": 5
}
